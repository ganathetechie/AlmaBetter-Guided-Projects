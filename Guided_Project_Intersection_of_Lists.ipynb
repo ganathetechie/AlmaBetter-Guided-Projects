{
  "nbformat": 4,
  "nbformat_minor": 0,
  "metadata": {
    "kernelspec": {
      "display_name": "Python 3",
      "language": "python",
      "name": "python3"
    },
    "language_info": {
      "codemirror_mode": {
        "name": "ipython",
        "version": 3
      },
      "file_extension": ".py",
      "mimetype": "text/x-python",
      "name": "python",
      "nbconvert_exporter": "python",
      "pygments_lexer": "ipython3",
      "version": "3.7.1"
    },
    "colab": {
      "name": "Guided Project - Intersection of Lists.ipynb",
      "provenance": [],
      "collapsed_sections": [],
      "include_colab_link": true
    }
  },
  "cells": [
    {
      "cell_type": "markdown",
      "metadata": {
        "id": "view-in-github",
        "colab_type": "text"
      },
      "source": [
        "<a href=\"https://colab.research.google.com/github/ganathetechie/AlmaBetter-Guided-Projects/blob/main/Guided_Project_Intersection_of_Lists.ipynb\" target=\"_parent\"><img src=\"https://colab.research.google.com/assets/colab-badge.svg\" alt=\"Open In Colab\"/></a>"
      ]
    },
    {
      "cell_type": "markdown",
      "metadata": {
        "id": "rtBrwN-Aexbo"
      },
      "source": [
        "Given a list of n lists, write a function which returns the intersection of all the n lists. Each list can have any number of elements.\n",
        "\n",
        "Example 1:\n",
        "\n",
        "```\n",
        "input = [[5, 5, 5, 8, 10], \n",
        "      [5, 5, 7, 8], \n",
        "      [5, 5, 8, 9, 11]]\n",
        "```\n",
        "\n",
        "```\n",
        "output = [5, 5, 8]\n",
        "```\n",
        "\n",
        "Example 2:\n",
        "\n",
        "```\n",
        "input = [[5, 6], \n",
        "      [5, 5, 7, 8], \n",
        "      [5, 5, 8, 9]]\n",
        "```\n",
        "\n",
        "\n",
        "```\n",
        "output = [5]\n",
        "```"
      ]
    },
    {
      "cell_type": "code",
      "metadata": {
        "id": "v4La2D1uYeoy"
      },
      "source": [
        "lst_0 = [[1,2,4,5],\n",
        "         [4,6,7,1,3,2],\n",
        "         [3,1,4,7,8]]\n",
        "lst_1 = [[8,4,6],\n",
        "         [5,6,8,4],\n",
        "         [4,5,6],\n",
        "         [1,2,3,4,5,8]]\n",
        "lst_2 = [[1,2,7],\n",
        "         [1,3,5],\n",
        "         [0,2,1]]\n",
        "\n",
        "      "
      ],
      "execution_count": null,
      "outputs": []
    },
    {
      "cell_type": "code",
      "metadata": {
        "id": "EaDZXWcvYygJ"
      },
      "source": [
        "def get_min_list(list_of_lists):\n",
        "  '''This function returns the minimum length list when a list of lists is given as input'''\n",
        "  min_list_length = len(list_of_lists[0])\n",
        "  min_list = list_of_lists[0]\n",
        "\n",
        "  for list_ in list_of_lists:\n",
        "    if len(list_) < min_list_length:\n",
        "      min_list_length = len(list_)\n",
        "      min_list = list_\n",
        "  return min_list"
      ],
      "execution_count": null,
      "outputs": []
    },
    {
      "cell_type": "code",
      "metadata": {
        "id": "QyUOMbV3e9BU"
      },
      "source": [
        ""
      ],
      "execution_count": null,
      "outputs": []
    },
    {
      "cell_type": "code",
      "metadata": {
        "id": "fmx69yP3ZsfY"
      },
      "source": [
        "def get_frequency_map(any_list):\n",
        "    '''This function creates the frequency map of the given list and returns it'''\n",
        "    \n",
        "    frequency_map = {}\n",
        "    \n",
        "    for element in any_list:\n",
        "      if element in frequency_map.keys():\n",
        "        frequency_map[element] = frequency_map[element] + 1\n",
        "      else:\n",
        "        frequency_map[element] = 1\n",
        "    return frequency_map"
      ],
      "execution_count": null,
      "outputs": []
    },
    {
      "cell_type": "code",
      "metadata": {
        "id": "2LhlxJDmc2EL"
      },
      "source": [
        "def create_list_from_frequency_map(frequency_map):\n",
        "  final_list = []\n",
        "  for key,value in frequency_map.items():\n",
        "    final_list = final_list + [key]*value\n",
        "  return final_list"
      ],
      "execution_count": null,
      "outputs": []
    },
    {
      "cell_type": "code",
      "metadata": {
        "id": "y7v5LQW7eHF-"
      },
      "source": [
        "def intersection_list_of_lists(list_of_lists):\n",
        "  ''' This function takes a list of lists as input and returns the intersection of all the elements'''\n",
        "  min_len_list = get_min_list(list_of_lists)\n",
        "  min_len_list_frequency_map = get_frequency_map(min_len_list)\n",
        "  \n",
        "  for key,value in min_len_list_frequency_map.items():\n",
        "    \n",
        "    for list_ in list_of_lists:\n",
        "      if value > list_.count(key):\n",
        "        min_len_list_frequency_map[key] = list_.count(key)\n",
        "    \n",
        "  intersection_list = create_list_from_frequency_map(min_len_list_frequency_map)\n",
        "\n",
        "  return intersection_list\n",
        "      \n",
        "\n"
      ],
      "execution_count": null,
      "outputs": []
    },
    {
      "cell_type": "code",
      "metadata": {
        "id": "s9FGfVKthau2"
      },
      "source": [
        "result = intersection_list_of_lists(lst_2)\n"
      ],
      "execution_count": null,
      "outputs": []
    },
    {
      "cell_type": "code",
      "metadata": {
        "colab": {
          "base_uri": "https://localhost:8080/"
        },
        "id": "y0S_m0JmhhA0",
        "outputId": "e8102bf1-c27f-4926-da80-824347a6ecd4"
      },
      "source": [
        "print(result)"
      ],
      "execution_count": null,
      "outputs": [
        {
          "output_type": "stream",
          "text": [
            "[1]\n"
          ],
          "name": "stdout"
        }
      ]
    },
    {
      "cell_type": "code",
      "metadata": {
        "id": "GyxDjtnbhj8t"
      },
      "source": [
        ""
      ],
      "execution_count": null,
      "outputs": []
    }
  ]
}